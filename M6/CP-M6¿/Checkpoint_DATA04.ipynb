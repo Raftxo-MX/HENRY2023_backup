{
 "cells": [
  {
   "cell_type": "markdown",
   "id": "75c07e35",
   "metadata": {},
   "source": [
    "# Regresion Lineal"
   ]
  },
  {
   "cell_type": "code",
   "execution_count": 3,
   "id": "fb7f8728",
   "metadata": {},
   "outputs": [],
   "source": [
    "import pandas as pd\n",
    "import numpy as np\n",
    "from sklearn.linear_model import LinearRegression\n",
    "from sklearn.metrics import r2_score\n",
    "from sklearn.metrics import mean_squared_error\n",
    "import matplotlib.pyplot as plt\n",
    "import seaborn as sns"
   ]
  },
  {
   "cell_type": "code",
   "execution_count": 4,
   "id": "647ad25d",
   "metadata": {},
   "outputs": [
    {
     "data": {
      "text/html": [
       "<div>\n",
       "<style scoped>\n",
       "    .dataframe tbody tr th:only-of-type {\n",
       "        vertical-align: middle;\n",
       "    }\n",
       "\n",
       "    .dataframe tbody tr th {\n",
       "        vertical-align: top;\n",
       "    }\n",
       "\n",
       "    .dataframe thead th {\n",
       "        text-align: right;\n",
       "    }\n",
       "</style>\n",
       "<table border=\"1\" class=\"dataframe\">\n",
       "  <thead>\n",
       "    <tr style=\"text-align: right;\">\n",
       "      <th></th>\n",
       "      <th>TV</th>\n",
       "      <th>Radio</th>\n",
       "      <th>Newspaper</th>\n",
       "      <th>Sales</th>\n",
       "    </tr>\n",
       "  </thead>\n",
       "  <tbody>\n",
       "    <tr>\n",
       "      <th>0</th>\n",
       "      <td>230.1</td>\n",
       "      <td>37.8</td>\n",
       "      <td>69.2</td>\n",
       "      <td>22.1</td>\n",
       "    </tr>\n",
       "    <tr>\n",
       "      <th>1</th>\n",
       "      <td>44.5</td>\n",
       "      <td>39.3</td>\n",
       "      <td>45.1</td>\n",
       "      <td>10.4</td>\n",
       "    </tr>\n",
       "    <tr>\n",
       "      <th>2</th>\n",
       "      <td>17.2</td>\n",
       "      <td>45.9</td>\n",
       "      <td>69.3</td>\n",
       "      <td>9.3</td>\n",
       "    </tr>\n",
       "    <tr>\n",
       "      <th>3</th>\n",
       "      <td>151.5</td>\n",
       "      <td>41.3</td>\n",
       "      <td>58.5</td>\n",
       "      <td>18.5</td>\n",
       "    </tr>\n",
       "    <tr>\n",
       "      <th>4</th>\n",
       "      <td>180.8</td>\n",
       "      <td>10.8</td>\n",
       "      <td>58.4</td>\n",
       "      <td>12.9</td>\n",
       "    </tr>\n",
       "  </tbody>\n",
       "</table>\n",
       "</div>"
      ],
      "text/plain": [
       "      TV  Radio  Newspaper  Sales\n",
       "0  230.1   37.8       69.2   22.1\n",
       "1   44.5   39.3       45.1   10.4\n",
       "2   17.2   45.9       69.3    9.3\n",
       "3  151.5   41.3       58.5   18.5\n",
       "4  180.8   10.8       58.4   12.9"
      ]
     },
     "execution_count": 4,
     "metadata": {},
     "output_type": "execute_result"
    }
   ],
   "source": [
    "data = pd.read_csv(\"./datasets/Advertising.csv\")\n",
    "data.head()"
   ]
  },
  {
   "cell_type": "code",
   "execution_count": 5,
   "id": "96e4911e",
   "metadata": {},
   "outputs": [],
   "source": [
    "feature_cols = [\"TV\", \"Radio\", \"Newspaper\"]\n",
    "X = data[feature_cols]\n",
    "y = data[\"Sales\"]"
   ]
  },
  {
   "cell_type": "code",
   "execution_count": 6,
   "id": "665ae66a",
   "metadata": {},
   "outputs": [],
   "source": [
    "x1 = X[[\"TV\"]]\n",
    "x2 = X[[\"Radio\"]]\n",
    "x3 = X[[\"Newspaper\"]]"
   ]
  },
  {
   "cell_type": "markdown",
   "id": "d5303250",
   "metadata": {},
   "source": [
    "1) ¿Cuál variable explica mayor porcentaje (o mayor proporción) de la varianza existente en las ventas (Sales)?\n",
    "\n",
    "1.  x1 = TV\n",
    "2.  x2 = Radio\n",
    "3.  x3 = Newspaper  "
   ]
  },
  {
   "cell_type": "markdown",
   "id": "0f774a3c",
   "metadata": {},
   "source": [
    "# Regresion Lineal Multiple"
   ]
  },
  {
   "cell_type": "markdown",
   "id": "65803736",
   "metadata": {},
   "source": [
    "2) Tomando las dos variables que poseen mayor coeficiente de determinación al explicar \"Sales\", al unirlas en un modelo múltiple y calcular el coeficiente de determinación de este nuevo modelo, ¿Aumenta o disminuye la bondad de ajuste respecto al modelo simple que tiene la mayor bondad de ajuste?<br>\n",
    "1. Aumenta\n",
    "2. Dismuniye "
   ]
  },
  {
   "cell_type": "markdown",
   "id": "e9053366",
   "metadata": {},
   "source": [
    "# Feature engineer"
   ]
  },
  {
   "cell_type": "code",
   "execution_count": 11,
   "id": "e9e92419",
   "metadata": {},
   "outputs": [
    {
     "data": {
      "text/html": [
       "<div>\n",
       "<style scoped>\n",
       "    .dataframe tbody tr th:only-of-type {\n",
       "        vertical-align: middle;\n",
       "    }\n",
       "\n",
       "    .dataframe tbody tr th {\n",
       "        vertical-align: top;\n",
       "    }\n",
       "\n",
       "    .dataframe thead th {\n",
       "        text-align: right;\n",
       "    }\n",
       "</style>\n",
       "<table border=\"1\" class=\"dataframe\">\n",
       "  <thead>\n",
       "    <tr style=\"text-align: right;\">\n",
       "      <th></th>\n",
       "      <th>age</th>\n",
       "      <th>sex</th>\n",
       "      <th>bmi</th>\n",
       "      <th>children</th>\n",
       "      <th>smoker</th>\n",
       "      <th>region</th>\n",
       "      <th>charges</th>\n",
       "    </tr>\n",
       "  </thead>\n",
       "  <tbody>\n",
       "    <tr>\n",
       "      <th>0</th>\n",
       "      <td>19.0</td>\n",
       "      <td>female</td>\n",
       "      <td>27.900</td>\n",
       "      <td>0</td>\n",
       "      <td>yes</td>\n",
       "      <td>southwest</td>\n",
       "      <td>16884.92400</td>\n",
       "    </tr>\n",
       "    <tr>\n",
       "      <th>1</th>\n",
       "      <td>18.0</td>\n",
       "      <td>male</td>\n",
       "      <td>33.770</td>\n",
       "      <td>1</td>\n",
       "      <td>no</td>\n",
       "      <td>southeast</td>\n",
       "      <td>1725.55230</td>\n",
       "    </tr>\n",
       "    <tr>\n",
       "      <th>2</th>\n",
       "      <td>28.0</td>\n",
       "      <td>male</td>\n",
       "      <td>33.000</td>\n",
       "      <td>3</td>\n",
       "      <td>no</td>\n",
       "      <td>southeast</td>\n",
       "      <td>4449.46200</td>\n",
       "    </tr>\n",
       "    <tr>\n",
       "      <th>3</th>\n",
       "      <td>33.0</td>\n",
       "      <td>male</td>\n",
       "      <td>22.705</td>\n",
       "      <td>0</td>\n",
       "      <td>no</td>\n",
       "      <td>northwest</td>\n",
       "      <td>21984.47061</td>\n",
       "    </tr>\n",
       "    <tr>\n",
       "      <th>4</th>\n",
       "      <td>32.0</td>\n",
       "      <td>male</td>\n",
       "      <td>28.880</td>\n",
       "      <td>0</td>\n",
       "      <td>no</td>\n",
       "      <td>northwest</td>\n",
       "      <td>3866.85520</td>\n",
       "    </tr>\n",
       "  </tbody>\n",
       "</table>\n",
       "</div>"
      ],
      "text/plain": [
       "    age     sex     bmi  children smoker     region      charges\n",
       "0  19.0  female  27.900         0    yes  southwest  16884.92400\n",
       "1  18.0    male  33.770         1     no  southeast   1725.55230\n",
       "2  28.0    male  33.000         3     no  southeast   4449.46200\n",
       "3  33.0    male  22.705         0     no  northwest  21984.47061\n",
       "4  32.0    male  28.880         0     no  northwest   3866.85520"
      ]
     },
     "execution_count": 11,
     "metadata": {},
     "output_type": "execute_result"
    }
   ],
   "source": [
    "#Dataset que contiene información sobre cargos de seguros de vida (Insurance charges).\n",
    "df = pd.read_csv(\"./datasets/insurance.csv\") \n",
    "df.head()"
   ]
  },
  {
   "cell_type": "markdown",
   "id": "36661a75",
   "metadata": {},
   "source": [
    "* Remover registros duplicados"
   ]
  },
  {
   "cell_type": "markdown",
   "id": "6d486220",
   "metadata": {},
   "source": [
    "* Ver si hay valores nulos y eliminarlos"
   ]
  },
  {
   "cell_type": "markdown",
   "id": "a967f20a",
   "metadata": {},
   "source": [
    "* Quitar la columna region"
   ]
  },
  {
   "cell_type": "markdown",
   "id": "201f9a0a",
   "metadata": {},
   "source": [
    "* Genere variables dummies (binarias) para el género de la persona y si es fumador o no, pensando en añadirlas posteriormente como variables independientes para explicar \"charges\"."
   ]
  },
  {
   "cell_type": "markdown",
   "id": "eb64e0ea",
   "metadata": {},
   "source": [
    "3) Al generar las variables dummies, en total se añadieron 4 variables categóricas con valores 1 y 0 para ser añadidas al modelo: (hombre, mujer, fuma, no fuma)<br>\n",
    "1. Verdadero\n",
    "2. Falso"
   ]
  },
  {
   "cell_type": "markdown",
   "id": "f50da175",
   "metadata": {},
   "source": [
    "Considerando la aplicación de los pasos dictados anteriormente para el dataset \"insurance\", responda las siguientes dos preguntas: "
   ]
  },
  {
   "cell_type": "markdown",
   "id": "618728e8",
   "metadata": {},
   "source": [
    "4) ¿Existe más de un 1% de valores nulos en la columna \"charges\"? \n",
    "1. Verdadero\n",
    "2. Falso "
   ]
  },
  {
   "cell_type": "markdown",
   "id": "66a33225",
   "metadata": {},
   "source": [
    "5. Utilizando como variable dependiente \"charges\" y el resto de las variables presentes en el dataframe (exceptuando region) como variables independientes, ¿Cuál es el intercepto del modelo? (redondee a dos decimales)"
   ]
  },
  {
   "cell_type": "markdown",
   "id": "6472d105",
   "metadata": {},
   "source": [
    "## Curva ROC"
   ]
  },
  {
   "cell_type": "markdown",
   "id": "bd0f9198",
   "metadata": {},
   "source": [
    "6) La métrica AUC, indica si el modelo es capaz de distinguir una clase de otra. De ser 0.5, esta métrica indica que el modelo predice aleatoriamente.\n",
    "\n",
    "1. Verdadero\n",
    "2. Falso "
   ]
  },
  {
   "cell_type": "markdown",
   "id": "186cb468",
   "metadata": {},
   "source": [
    " # Overfitting"
   ]
  },
  {
   "cell_type": "markdown",
   "id": "b8fe8640",
   "metadata": {},
   "source": [
    "7) Un modelo con overfitting indica que posee poca información de entrada, no pudiendo generalizar sus predicciones.\n",
    "\n",
    "1. Verdadero \n",
    "2. Falso"
   ]
  },
  {
   "cell_type": "markdown",
   "id": "9c63968a",
   "metadata": {},
   "source": [
    "## Escalado de valores"
   ]
  },
  {
   "cell_type": "code",
   "execution_count": 13,
   "id": "451e6e12",
   "metadata": {},
   "outputs": [
    {
     "data": {
      "text/html": [
       "<div>\n",
       "<style scoped>\n",
       "    .dataframe tbody tr th:only-of-type {\n",
       "        vertical-align: middle;\n",
       "    }\n",
       "\n",
       "    .dataframe tbody tr th {\n",
       "        vertical-align: top;\n",
       "    }\n",
       "\n",
       "    .dataframe thead th {\n",
       "        text-align: right;\n",
       "    }\n",
       "</style>\n",
       "<table border=\"1\" class=\"dataframe\">\n",
       "  <thead>\n",
       "    <tr style=\"text-align: right;\">\n",
       "      <th></th>\n",
       "      <th>age</th>\n",
       "      <th>sex</th>\n",
       "      <th>bmi</th>\n",
       "      <th>children</th>\n",
       "      <th>smoker</th>\n",
       "      <th>region</th>\n",
       "      <th>charges</th>\n",
       "    </tr>\n",
       "  </thead>\n",
       "  <tbody>\n",
       "    <tr>\n",
       "      <th>0</th>\n",
       "      <td>19.0</td>\n",
       "      <td>female</td>\n",
       "      <td>27.900</td>\n",
       "      <td>0</td>\n",
       "      <td>yes</td>\n",
       "      <td>southwest</td>\n",
       "      <td>16884.92400</td>\n",
       "    </tr>\n",
       "    <tr>\n",
       "      <th>1</th>\n",
       "      <td>18.0</td>\n",
       "      <td>male</td>\n",
       "      <td>33.770</td>\n",
       "      <td>1</td>\n",
       "      <td>no</td>\n",
       "      <td>southeast</td>\n",
       "      <td>1725.55230</td>\n",
       "    </tr>\n",
       "    <tr>\n",
       "      <th>2</th>\n",
       "      <td>28.0</td>\n",
       "      <td>male</td>\n",
       "      <td>33.000</td>\n",
       "      <td>3</td>\n",
       "      <td>no</td>\n",
       "      <td>southeast</td>\n",
       "      <td>4449.46200</td>\n",
       "    </tr>\n",
       "    <tr>\n",
       "      <th>3</th>\n",
       "      <td>33.0</td>\n",
       "      <td>male</td>\n",
       "      <td>22.705</td>\n",
       "      <td>0</td>\n",
       "      <td>no</td>\n",
       "      <td>northwest</td>\n",
       "      <td>21984.47061</td>\n",
       "    </tr>\n",
       "    <tr>\n",
       "      <th>4</th>\n",
       "      <td>32.0</td>\n",
       "      <td>male</td>\n",
       "      <td>28.880</td>\n",
       "      <td>0</td>\n",
       "      <td>no</td>\n",
       "      <td>northwest</td>\n",
       "      <td>3866.85520</td>\n",
       "    </tr>\n",
       "  </tbody>\n",
       "</table>\n",
       "</div>"
      ],
      "text/plain": [
       "    age     sex     bmi  children smoker     region      charges\n",
       "0  19.0  female  27.900         0    yes  southwest  16884.92400\n",
       "1  18.0    male  33.770         1     no  southeast   1725.55230\n",
       "2  28.0    male  33.000         3     no  southeast   4449.46200\n",
       "3  33.0    male  22.705         0     no  northwest  21984.47061\n",
       "4  32.0    male  28.880         0     no  northwest   3866.85520"
      ]
     },
     "execution_count": 13,
     "metadata": {},
     "output_type": "execute_result"
    }
   ],
   "source": [
    "#Dataset que contiene información sobre cargos de seguros de vida (Insurance charges).\n",
    "df = pd.read_csv(\"./datasets/insurance.csv\")\n",
    "df.head()"
   ]
  },
  {
   "cell_type": "code",
   "execution_count": 15,
   "id": "4379f958",
   "metadata": {},
   "outputs": [
    {
     "data": {
      "image/png": "[encoded data removed]",
      "text/plain": [
       "<Figure size 640x480 with 1 Axes>"
      ]
     },
     "metadata": {},
     "output_type": "display_data"
    }
   ],
   "source": [
    "from sklearn.preprocessing import StandardScaler\n",
    "import matplotlib.pyplot as plt\n",
    "\n",
    "plt.hist(df['age']);"
   ]
  },
  {
   "cell_type": "code",
   "execution_count": 16,
   "id": "994609c7",
   "metadata": {},
   "outputs": [
    {
     "data": {
      "image/png": "[encoded data removed]",
      "text/plain": [
       "<Figure size 640x480 with 1 Axes>"
      ]
     },
     "metadata": {},
     "output_type": "display_data"
    }
   ],
   "source": [
    "scaler = StandardScaler() \n",
    "scaler.fit(df[['age']]) \n",
    "\n",
    "df['age_Z'] = scaler.transform(df[['age']]) \n",
    "plt.hist(df['age_Z']);"
   ]
  },
  {
   "cell_type": "markdown",
   "id": "e456e377",
   "metadata": {},
   "source": [
    "8) Al estandarizar la variable \"age\", estamos calculando en cuántos años se aleja cada observación respecto a la media muestral de la edad. <br>\n",
    "1. Verdadero <br>\n",
    "2. Falso<br>"
   ]
  },
  {
   "cell_type": "markdown",
   "id": "cbd9ea64",
   "metadata": {},
   "source": [
    "9) Usamos StandartScaler en modelos como PCA para:\n",
    "\n",
    "1. Poder cambiar la distribución de la muestra, conviertiéndola en una distribución normal (media 0 y desviación estándar 1)<br>\n",
    "2. Facilitar la comparación de variables que están en distintas escalas/unidades de medida<br>\n",
    "3. Evitar que los valores outliers sesguen la estimación<br>\n"
   ]
  },
  {
   "cell_type": "markdown",
   "id": "e26c1465",
   "metadata": {},
   "source": [
    "## Correlacion de columnas"
   ]
  },
  {
   "cell_type": "markdown",
   "id": "6e39705c",
   "metadata": {},
   "source": [
    "10) Considerando la correlación de Pearson, ¿Cuál variable considera más adecuada para explicar el precio de venta (SalesPrice)? \n",
    "- descripcion del dataset \n",
    "  https://wagon-public-datasets.s3.amazonaws.com/Machine%20Learning%20Datasets/ML_Houses_dataset_description.txt\n",
    "\n",
    "1. GrLivArea\n",
    "2. BedroomAbvGr\n",
    "3. KitchenAbvGr\n",
    "4. OverallCond\n",
    "5. Pesos"
   ]
  },
  {
   "cell_type": "code",
   "execution_count": 21,
   "id": "a53701aa",
   "metadata": {},
   "outputs": [
    {
     "data": {
      "image/png": "[encoded data removed]",
      "text/plain": [
       "<Figure size 640x480 with 2 Axes>"
      ]
     },
     "metadata": {},
     "output_type": "display_data"
    }
   ],
   "source": [
    "df = pd.read_csv(\"./datasets/ML_Houses_dataset.csv\")\n",
    "df_houses = df[['GrLivArea', 'BedroomAbvGr', 'KitchenAbvGr', 'OverallCond', \n",
    "                       'Pesos', 'Alley', 'Street', 'WallMat','SalePrice']]\n",
    "                       \n",
    "corr = df_houses.corr()\n",
    "sns.heatmap(corr, \n",
    "        xticklabels=corr.columns,\n",
    "        yticklabels=corr.columns,\n",
    "        annot=True);"
   ]
  },
  {
   "cell_type": "markdown",
   "id": "72be76e2",
   "metadata": {},
   "source": [
    "11) ¿Consideras necesario eliminar alguna de las variables del análisis? \n",
    "1. GrLivArea\n",
    "2. BedroomAbvGr\n",
    "3. KitchenAbvGr\n",
    "4. OverallCond\n",
    "5. Pesos\n",
    "6. No hay información suficiente para decidir eliminar alguna. "
   ]
  },
  {
   "cell_type": "markdown",
   "id": "6c42b96b",
   "metadata": {},
   "source": [
    "# Clasificacion"
   ]
  },
  {
   "cell_type": "markdown",
   "id": "cc19bdc7",
   "metadata": {},
   "source": [
    "Que score tendriamos en el árbol de desición"
   ]
  },
  {
   "cell_type": "code",
   "execution_count": 22,
   "id": "1924b876",
   "metadata": {},
   "outputs": [
    {
     "name": "stderr",
     "output_type": "stream",
     "text": [
      "C:\\Users\\paula\\AppData\\Local\\Temp\\ipykernel_13824\\2925044733.py:1: SettingWithCopyWarning: \n",
      "A value is trying to be set on a copy of a slice from a DataFrame.\n",
      "Try using .loc[row_indexer,col_indexer] = value instead\n",
      "\n",
      "See the caveats in the documentation: https://pandas.pydata.org/pandas-docs/stable/user_guide/indexing.html#returning-a-view-versus-a-copy\n",
      "  df_houses['SalePriceBinary'] = pd.cut(x = df_houses['SalePrice'],\n"
     ]
    }
   ],
   "source": [
    "df_houses['SalePriceBinary'] = pd.cut(x = df_houses['SalePrice'],\n",
    "                                        bins=[df_houses['SalePrice'].min()-1,\n",
    "                                        df_houses['SalePrice'].mean(),\n",
    "                                        df_houses['SalePrice'].max()+1], \n",
    "                                        labels=['barato', 'caro'])"
   ]
  },
  {
   "cell_type": "code",
   "execution_count": 24,
   "id": "4d01bbc3",
   "metadata": {},
   "outputs": [],
   "source": [
    "from sklearn.preprocessing import LabelEncoder, MinMaxScaler\n",
    "from sklearn.tree import DecisionTreeClassifier\n",
    "from sklearn.model_selection import cross_val_score\n",
    "\n",
    "y_encoder = LabelEncoder().fit(df_houses['SalePriceBinary'])\n",
    "y = y_encoder.transform(df_houses['SalePriceBinary'])\n",
    "X = df_houses.drop(columns=['Alley','Street','WallMat', 'SalePrice', 'Pesos', 'SalePriceBinary'])\n",
    "\n",
    "X_scaled = MinMaxScaler().fit_transform(X)"
   ]
  },
  {
   "cell_type": "markdown",
   "id": "6e9d7816",
   "metadata": {},
   "source": [
    "12) En qué rango se encuentra el accuracy del modelo?\n",
    "1. [0.65 , 0.7)\n",
    "2. [0.7 , 0.8)\n",
    "3. [0.8 , 0.9)\n",
    "4. [0.9 , 0.95]\n",
    "5. Menor a 0.65 o mayor a 0.95"
   ]
  },
  {
   "cell_type": "markdown",
   "id": "e0c6b4d5",
   "metadata": {},
   "source": [
    "# Metricas"
   ]
  },
  {
   "cell_type": "code",
   "execution_count": 26,
   "id": "5dd50d53",
   "metadata": {},
   "outputs": [],
   "source": [
    "from sklearn.metrics import accuracy_score, precision_score, recall_score, f1_score\n",
    "\n",
    "y_true = [0, 0, 0, 1, 1, 0, 1, 0, 0, 1, 0, 1, 1]\n",
    "y_pred = [1, 0, 0, 1, 0, 1, 1, 0, 1, 1, 0, 1, 1]"
   ]
  },
  {
   "cell_type": "markdown",
   "id": "4609cf88",
   "metadata": {},
   "source": [
    "13) Cual es el valor de la exactitud (Accuracy)?\n",
    "\n",
    "1. 0.62\n",
    "2. 0.69\n",
    "3. 0.71 \n",
    "4. 0.83"
   ]
  },
  {
   "cell_type": "markdown",
   "id": "5c5b5f26",
   "metadata": {},
   "source": [
    "# Ajustando Metricas"
   ]
  },
  {
   "cell_type": "code",
   "execution_count": 220,
   "id": "a1898ebd",
   "metadata": {},
   "outputs": [],
   "source": [
    "from sklearn.metrics import confusion_matrix,accuracy_score\n",
    "y_test = [0, 0, 0, 1, 1, 0, 1, 0, 0, 1, 0, 1, 1]\n",
    "y_pred = [1, 0, 0, 1, 0, 1, 1, 0, 1, 1, 0, 1, 1]"
   ]
  },
  {
   "cell_type": "markdown",
   "id": "5c72cef1",
   "metadata": {},
   "source": [
    "14) Considerando la clase de los 1, ¿Cuál es la cantidad de falsos positivos?<br>\n",
    "1. 5<br>\n",
    "2. 4<br>\n",
    "3. 3<br>\n",
    "4. 1<br>"
   ]
  },
  {
   "cell_type": "markdown",
   "id": "5e9325f6",
   "metadata": {},
   "source": [
    "# K-means"
   ]
  },
  {
   "cell_type": "code",
   "execution_count": 29,
   "id": "d804ce38",
   "metadata": {},
   "outputs": [],
   "source": [
    "import numpy as np\n",
    "import matplotlib.pyplot as plt\n",
    "import seaborn as sns\n",
    "from sklearn.datasets import make_blobs\n",
    "from sklearn.cluster import KMeans\n",
    "from kneed import KneeLocator\n",
    "import warnings\n",
    "warnings.filterwarnings('ignore')"
   ]
  },
  {
   "cell_type": "code",
   "execution_count": 30,
   "id": "8327d0be",
   "metadata": {},
   "outputs": [],
   "source": [
    "X, y = make_blobs(n_samples=200,centers=6,cluster_std=2.75,random_state=42)"
   ]
  },
  {
   "cell_type": "markdown",
   "id": "0a0342f1",
   "metadata": {},
   "source": [
    "15) Considerando la suma del error cuadrático (SSE), ¿Cuál sería el número óptimo de clusters?<br>\n",
    "\n",
    "1. 1<br>\n",
    "2. 2<br>\n",
    "3. 3<br>\n",
    "4. 4<br>\n",
    "5. 5<br>\n",
    "6. 6<br>"
   ]
  },
  {
   "cell_type": "markdown",
   "id": "8e76c0e7",
   "metadata": {},
   "source": [
    "# Pipelines"
   ]
  },
  {
   "cell_type": "markdown",
   "id": "71c62d2a",
   "metadata": {},
   "source": [
    "16) ¿Cuál de estas afirmaciones es falsa respecto a los pipelines en Machine Learning?\n",
    "\n",
    "1. Es posible incluir APIs como fuente de información\n",
    "2. La evaluación de la performance (rendimiento) del modelo debe hacerse en paralelo al pipeline\n",
    "3. Permite un flujo de trabajo cíclico"
   ]
  },
  {
   "cell_type": "markdown",
   "id": "02fc349c",
   "metadata": {},
   "source": [
    "# Modelo ensamblado"
   ]
  },
  {
   "cell_type": "markdown",
   "id": "5d74b62a",
   "metadata": {},
   "source": [
    "17) ¿Cuál de los siguientes modelos de ensamble es iterativo? \n",
    "\n",
    "1. Boosting\n",
    "2. Bagging\n",
    "3. Stacking "
   ]
  }
 ],
 "metadata": {
  "kernelspec": {
   "display_name": "Python 3.9.13 ('base')",
   "language": "python",
   "name": "python3"
  },
  "language_info": {
   "codemirror_mode": {
    "name": "ipython",
    "version": 3
   },
   "file_extension": ".py",
   "mimetype": "text/x-python",
   "name": "python",
   "nbconvert_exporter": "python",
   "pygments_lexer": "ipython3",
   "version": "3.9.13"
  },
  "toc": {
   "base_numbering": 1,
   "nav_menu": {},
   "number_sections": true,
   "sideBar": true,
   "skip_h1_title": false,
   "title_cell": "Table of Contents",
   "title_sidebar": "Contents",
   "toc_cell": false,
   "toc_position": {},
   "toc_section_display": true,
   "toc_window_display": false
  },
  "vscode": {
   "interpreter": {
    "hash": "0de44e77179c5f1387f6ae5093afa3821e110b922dd2f6de64622a94a2c00df9"
   }
  }
 },
 "nbformat": 4,
 "nbformat_minor": 5
}
